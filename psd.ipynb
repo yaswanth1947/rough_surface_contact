import numpy as np
import scipy.stats as stats
import matplotlib.pyplot as pl
import csv
import scipy
import math
from math import pi
from math import log
from math import sqrt

filename = 'cauchyaa2048_al1.8_b1_10.000.csv'
with open(filename, newline='') as csvfile:
    image = np.loadtxt(csvfile, delimiter=",")

image = image#-np.mean(image)
npix = image.shape[0]

fourier_image = np.fft.fftn(image)
fourier_amplitudes = np.abs(fourier_image/((npix-1)**2*(2*pi)**2))**2*(2*pi)**2

kfreq = np.fft.fftfreq(npix) * npix
kfreq2D = np.meshgrid(kfreq, kfreq)
knrm = np.sqrt(kfreq2D[0]**2 + kfreq2D[1]**2)

knrm = knrm.flatten()
fourier_amplitudes = fourier_amplitudes.flatten()

kbins = np.arange(0.5, npix//2+1, 1.)
kvals = 0.5 * (kbins[1:] + kbins[:-1])
Abins, _, _ = stats.binned_statistic(knrm, fourier_amplitudes,
                                     statistic = "mean",
                                     bins = kbins)
#Abins *= np.pi * (kbins[1:]**2 - kbins[:-1]**2)

pl.loglog(kvals, Abins)
pl.xlabel("$k$")
pl.ylabel("$P(k)$")
pl.tight_layout()

rms_slope_req = 0.02
rms_slope_spec_cal = sqrt(scipy.integrate.simps((kvals**3)*Abins, x=kvals, even='avg')*((2*pi)**5))
surface = image*rms_slope_req/rms_slope_spec_cal

np.savetxt(filename, surface, delimiter=',')